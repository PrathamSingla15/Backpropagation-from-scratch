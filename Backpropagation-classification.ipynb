{
 "cells": [
  {
   "cell_type": "markdown",
   "id": "dbead125-43de-4f67-abba-6b566639b166",
   "metadata": {
    "tags": []
   },
   "source": [
    "## Backpropagartion_classification from scratch"
   ]
  },
  {
   "cell_type": "code",
   "execution_count": 1,
   "id": "93d04d1c-4863-43d3-ae12-d7e1bda70316",
   "metadata": {
    "tags": []
   },
   "outputs": [],
   "source": [
    "import numpy as np\n",
    "import pandas as pd"
   ]
  },
  {
   "cell_type": "code",
   "execution_count": 30,
   "id": "05f72794-d29c-4fcb-9f44-4dcfcad236d0",
   "metadata": {
    "tags": []
   },
   "outputs": [],
   "source": [
    "df = pd.DataFrame([[8,8,1],[7,9,1],[6,10,0],[5,5,0]], columns=['cgpa', 'profile_score', 'placed'])"
   ]
  },
  {
   "cell_type": "code",
   "execution_count": 32,
   "id": "b0c80f32-1ee3-4fb0-b3e7-90f0f067d350",
   "metadata": {
    "tags": []
   },
   "outputs": [
    {
     "data": {
      "text/html": [
       "<div>\n",
       "<style scoped>\n",
       "    .dataframe tbody tr th:only-of-type {\n",
       "        vertical-align: middle;\n",
       "    }\n",
       "\n",
       "    .dataframe tbody tr th {\n",
       "        vertical-align: top;\n",
       "    }\n",
       "\n",
       "    .dataframe thead th {\n",
       "        text-align: right;\n",
       "    }\n",
       "</style>\n",
       "<table border=\"1\" class=\"dataframe\">\n",
       "  <thead>\n",
       "    <tr style=\"text-align: right;\">\n",
       "      <th></th>\n",
       "      <th>cgpa</th>\n",
       "      <th>profile_score</th>\n",
       "      <th>placed</th>\n",
       "    </tr>\n",
       "  </thead>\n",
       "  <tbody>\n",
       "    <tr>\n",
       "      <th>0</th>\n",
       "      <td>8</td>\n",
       "      <td>8</td>\n",
       "      <td>1</td>\n",
       "    </tr>\n",
       "    <tr>\n",
       "      <th>1</th>\n",
       "      <td>7</td>\n",
       "      <td>9</td>\n",
       "      <td>1</td>\n",
       "    </tr>\n",
       "    <tr>\n",
       "      <th>2</th>\n",
       "      <td>6</td>\n",
       "      <td>10</td>\n",
       "      <td>0</td>\n",
       "    </tr>\n",
       "    <tr>\n",
       "      <th>3</th>\n",
       "      <td>5</td>\n",
       "      <td>5</td>\n",
       "      <td>0</td>\n",
       "    </tr>\n",
       "  </tbody>\n",
       "</table>\n",
       "</div>"
      ],
      "text/plain": [
       "   cgpa  profile_score  placed\n",
       "0     8              8       1\n",
       "1     7              9       1\n",
       "2     6             10       0\n",
       "3     5              5       0"
      ]
     },
     "execution_count": 32,
     "metadata": {},
     "output_type": "execute_result"
    }
   ],
   "source": [
    "df"
   ]
  },
  {
   "cell_type": "code",
   "execution_count": 33,
   "id": "1b047fda-a146-4908-a703-00046148c0ae",
   "metadata": {
    "tags": []
   },
   "outputs": [],
   "source": [
    "def initialize_parameters(layer_dims):   #eg (2 for inputs ,2 for hidden ,1 for output)\n",
    "  \n",
    "    np.random.seed(3)\n",
    "    parameters = {}\n",
    "    L = len(layer_dims)         #finding no of layers in neutral network\n",
    "\n",
    "    for l in range(1, L):  \n",
    "\n",
    "        parameters['W' + str(l)] = np.ones((layer_dims[l-1], layer_dims[l]))*0.1\n",
    "        parameters['b' + str(l)] = np.zeros((layer_dims[l], 1))\n",
    "      \n",
    "\n",
    "    return parameters"
   ]
  },
  {
   "cell_type": "code",
   "execution_count": 34,
   "id": "e34e7ff9-858e-4bb0-9d6e-b6bb6dc00024",
   "metadata": {
    "tags": []
   },
   "outputs": [
    {
     "data": {
      "text/plain": [
       "{'W1': array([[0.1, 0.1],\n",
       "        [0.1, 0.1]]),\n",
       " 'b1': array([[0.],\n",
       "        [0.]]),\n",
       " 'W2': array([[0.1],\n",
       "        [0.1]]),\n",
       " 'b2': array([[0.]])}"
      ]
     },
     "execution_count": 34,
     "metadata": {},
     "output_type": "execute_result"
    }
   ],
   "source": [
    "initialize_parameters([2,2,1])"
   ]
  },
  {
   "cell_type": "code",
   "execution_count": 35,
   "id": "b2b5be7f-8376-4c7a-a92d-aa02424a4901",
   "metadata": {
    "tags": []
   },
   "outputs": [],
   "source": [
    "# Utility Functions\n",
    "def sigmoid(Z):\n",
    "  \n",
    "    A = 1/(1+np.exp(-Z))\n",
    "\n",
    "    return A"
   ]
  },
  {
   "cell_type": "code",
   "execution_count": 36,
   "id": "3bd5afc3-c196-4ed7-bf5a-cb0a0f16edc1",
   "metadata": {
    "tags": []
   },
   "outputs": [],
   "source": [
    "def linear_forward(A_prev, W, b):   #taking output of prev layer, W,b \n",
    "  \n",
    "    Z = np.dot(W.T, A_prev) + b   \n",
    "    A=sigmoid(Z)\n",
    "    return A"
   ]
  },
  {
   "cell_type": "code",
   "execution_count": 60,
   "id": "e2fb0ddf-7519-4ffd-b743-b20210c6f69a",
   "metadata": {
    "tags": []
   },
   "outputs": [],
   "source": [
    "# Forward Prop\n",
    "def L_layer_forward(X, parameters):\n",
    "\n",
    "    A = X\n",
    "    L = len(parameters) // 2                  # number of layers in the neural network\n",
    "  \n",
    "    for l in range(1, L+1):\n",
    "        A_prev = A \n",
    "        Wl = parameters['W' + str(l)]\n",
    "        bl = parameters['b' + str(l)]\n",
    "        # print(\"A\"+str(l-1)+\": \", A_prev)\n",
    "        # print(\"W\"+str(l)+\": \", Wl)\n",
    "        # print(\"b\"+str(l)+\": \", bl)\n",
    "        # print(\"--\"*20)\n",
    "\n",
    "        A = linear_forward(A_prev, Wl, bl)\n",
    "        # print(\"A\"+str(l)+\": \", A)\n",
    "        # print(\"**\"*20)\n",
    "          \n",
    "    return A,A_prev"
   ]
  },
  {
   "cell_type": "code",
   "execution_count": 39,
   "id": "c113ef3a-5f44-4de6-b9e7-60ea278eb213",
   "metadata": {
    "tags": []
   },
   "outputs": [
    {
     "name": "stdout",
     "output_type": "stream",
     "text": [
      "A0:  [[8]\n",
      " [8]]\n",
      "W1:  [[0.1 0.1]\n",
      " [0.1 0.1]]\n",
      "b1:  [[0.]\n",
      " [0.]]\n",
      "----------------------------------------\n",
      "A1:  [[0.83201839]\n",
      " [0.83201839]]\n",
      "****************************************\n",
      "A1:  [[0.83201839]\n",
      " [0.83201839]]\n",
      "W2:  [[0.1]\n",
      " [0.1]]\n",
      "b2:  [[0.]]\n",
      "----------------------------------------\n",
      "A2:  [[0.54150519]]\n",
      "****************************************\n"
     ]
    }
   ],
   "source": [
    "#Student-1\n",
    "X = df[['cgpa', 'profile_score']].values[0].reshape(2,1) # Shape(no of features, no. of training example)\n",
    "y = df[['placed']].values[0][0]\n",
    "\n",
    "# Parameter initialization\n",
    "parameters = initialize_parameters([2,2,1])\n",
    "\n",
    "y_hat,A1 = L_layer_forward(X, parameters)"
   ]
  },
  {
   "cell_type": "code",
   "execution_count": 40,
   "id": "72069b11-c2de-47d1-91bd-8f0130d6eb1b",
   "metadata": {
    "tags": []
   },
   "outputs": [],
   "source": [
    "y_hat=y_hat[0][0]"
   ]
  },
  {
   "cell_type": "code",
   "execution_count": 41,
   "id": "c75caa87-a423-4a28-b0c5-c4a05517bd15",
   "metadata": {
    "tags": []
   },
   "outputs": [],
   "source": [
    "def update_parameters(parameters,y,y_hat,A1,X):\n",
    "    parameters['W2'][0][0] = parameters['W2'][0][0] + (0.001 * (y - y_hat)*A1[0][0])\n",
    "    parameters['W2'][1][0] = parameters['W2'][1][0] + (0.001 * (y - y_hat)*A1[1][0])\n",
    "    parameters['b2'][0][0] = parameters['b2'][0][0] + (0.001 * (y - y_hat))\n",
    "\n",
    "    parameters['W1'][0][0] = parameters['W1'][0][0] + (0.001 * (y - y_hat)*parameters['W2'][0][0]*A1[0][0]*(1-A1[0][0])*X[0][0])\n",
    "    parameters['W1'][0][1] = parameters['W1'][0][1] + (0.001 * (y - y_hat)*parameters['W2'][0][0]*A1[0][0]*(1-A1[0][0])*X[1][0])\n",
    "    parameters['b1'][0][0] = parameters['b1'][0][0] + (0.001 * (y - y_hat)*parameters['W2'][0][0]*A1[0][0]*(1-A1[0][0]))\n",
    "\n",
    "    parameters['W1'][1][0] = parameters['W1'][1][0] + (0.001 * (y - y_hat)*parameters['W2'][1][0]*A1[1][0]*(1-A1[1][0])*X[0][0])\n",
    "    parameters['W1'][1][1] = parameters['W1'][1][1] + (0.001 * (y - y_hat)*parameters['W2'][1][0]*A1[1][0]*(1-A1[1][0])*X[1][0])\n",
    "    parameters['b1'][1][0] = parameters['b1'][1][0] + (0.001 * (y - y_hat)*parameters['W2'][1][0]*A1[1][0]*(1-A1[1][0]))"
   ]
  },
  {
   "cell_type": "code",
   "execution_count": 42,
   "id": "d05319a8-0e6d-47d5-82ba-909f2fd8138b",
   "metadata": {
    "tags": []
   },
   "outputs": [],
   "source": [
    "update_parameters(parameters,y,y_hat,A1,X)"
   ]
  },
  {
   "cell_type": "code",
   "execution_count": 44,
   "id": "22dd1b0d-00ee-418d-985a-88c9794990b3",
   "metadata": {
    "tags": []
   },
   "outputs": [
    {
     "name": "stdout",
     "output_type": "stream",
     "text": [
      "Loss for this student -  0.613402628898913\n"
     ]
    },
    {
     "data": {
      "text/plain": [
       "{'W1': array([[0.10005146, 0.10005146],\n",
       "        [0.10005146, 0.10005146]]),\n",
       " 'b1': array([[6.43254269e-06],\n",
       "        [6.43254269e-06]]),\n",
       " 'W2': array([[0.10038148],\n",
       "        [0.10038148]]),\n",
       " 'b2': array([[0.00045849]])}"
      ]
     },
     "execution_count": 44,
     "metadata": {},
     "output_type": "execute_result"
    }
   ],
   "source": [
    "print('Loss for this student - ',-y*np.log(y_hat) - (1-y)*np.log(1-y_hat))\n",
    "parameters"
   ]
  },
  {
   "cell_type": "code",
   "execution_count": 45,
   "id": "fe179998-454a-4da5-b534-f92b72de6080",
   "metadata": {
    "tags": []
   },
   "outputs": [
    {
     "name": "stdout",
     "output_type": "stream",
     "text": [
      "A0:  [[7]\n",
      " [9]]\n",
      "W1:  [[0.10005146 0.10005146]\n",
      " [0.10005146 0.10005146]]\n",
      "b1:  [[6.43254269e-06]\n",
      " [6.43254269e-06]]\n",
      "----------------------------------------\n",
      "A1:  [[0.83213433]\n",
      " [0.83213433]]\n",
      "****************************************\n",
      "A1:  [[0.83213433]\n",
      " [0.83213433]]\n",
      "W2:  [[0.10038148]\n",
      " [0.10038148]]\n",
      "b2:  [[0.00045849]]\n",
      "----------------------------------------\n",
      "A2:  [[0.54178239]]\n",
      "****************************************\n"
     ]
    }
   ],
   "source": [
    "#Student-2\n",
    "X = df[['cgpa', 'profile_score']].values[1].reshape(2,1) # Shape(no of features, no. of training example)\n",
    "y = df[['placed']].values[1][0]\n",
    "\n",
    "y_hat,A1 = L_layer_forward(X, parameters)"
   ]
  },
  {
   "cell_type": "code",
   "execution_count": 48,
   "id": "f3874a9f-f924-4f3b-8f26-47c669d2b897",
   "metadata": {
    "tags": []
   },
   "outputs": [],
   "source": [
    "y_hat=y_hat[0][0]"
   ]
  },
  {
   "cell_type": "code",
   "execution_count": 49,
   "id": "82eb3565-32fd-4fcd-ac17-3e96bfe0d485",
   "metadata": {
    "tags": []
   },
   "outputs": [],
   "source": [
    "update_parameters(parameters,y,y_hat,A1,X)"
   ]
  },
  {
   "cell_type": "code",
   "execution_count": 50,
   "id": "04d1d75d-4b2e-431f-9f52-7446279a3108",
   "metadata": {
    "tags": []
   },
   "outputs": [
    {
     "name": "stdout",
     "output_type": "stream",
     "text": [
      "Loss for this student -  0.61289084563907\n"
     ]
    },
    {
     "data": {
      "text/plain": [
       "{'W1': array([[0.10014192, 0.10016777],\n",
       "        [0.10014192, 0.10016777]]),\n",
       " 'b1': array([[1.93559833e-05],\n",
       "        [1.93559833e-05]]),\n",
       " 'W2': array([[0.10114407],\n",
       "        [0.10114407]]),\n",
       " 'b2': array([[0.00137493]])}"
      ]
     },
     "execution_count": 50,
     "metadata": {},
     "output_type": "execute_result"
    }
   ],
   "source": [
    "print('Loss for this student - ',-y*np.log(y_hat) - (1-y)*np.log(1-y_hat))\n",
    "parameters"
   ]
  },
  {
   "cell_type": "code",
   "execution_count": 52,
   "id": "725cdd66-2154-4147-bb5e-c5c7c4044e7b",
   "metadata": {
    "tags": []
   },
   "outputs": [
    {
     "name": "stdout",
     "output_type": "stream",
     "text": [
      "A0:  [[ 6]\n",
      " [10]]\n",
      "W1:  [[0.10014192 0.10016777]\n",
      " [0.10014192 0.10016777]]\n",
      "b1:  [[1.93559833e-05]\n",
      " [1.93559833e-05]]\n",
      "----------------------------------------\n",
      "A1:  [[0.83233822]\n",
      " [0.83239592]]\n",
      "****************************************\n",
      "A1:  [[0.83233822]\n",
      " [0.83239592]]\n",
      "W2:  [[0.10114407]\n",
      " [0.10114407]]\n",
      "b2:  [[0.00137493]]\n",
      "----------------------------------------\n",
      "A2:  [[0.54233661]]\n",
      "****************************************\n"
     ]
    }
   ],
   "source": [
    "#Student-3\n",
    "X = df[['cgpa', 'profile_score']].values[2].reshape(2,1) # Shape(no of features, no. of training example)\n",
    "y = df[['placed']].values[2][0]\n",
    "\n",
    "y_hat,A1 = L_layer_forward(X, parameters)"
   ]
  },
  {
   "cell_type": "code",
   "execution_count": 53,
   "id": "c9ade8ad-ad4f-448f-8827-051420308229",
   "metadata": {
    "tags": []
   },
   "outputs": [],
   "source": [
    "y_hat=y_hat[0][0]"
   ]
  },
  {
   "cell_type": "code",
   "execution_count": 54,
   "id": "03447fdb-994f-4fad-89f2-8961716fc1a4",
   "metadata": {
    "tags": []
   },
   "outputs": [],
   "source": [
    "update_parameters(parameters,y,y_hat,A1,X)"
   ]
  },
  {
   "cell_type": "code",
   "execution_count": 55,
   "id": "25f3425c-bea8-463a-807f-3a9820254fe3",
   "metadata": {
    "tags": []
   },
   "outputs": [
    {
     "name": "stdout",
     "output_type": "stream",
     "text": [
      "Loss for this student -  0.7816213321543171\n"
     ]
    },
    {
     "data": {
      "text/plain": [
       "{'W1': array([[0.1000962 , 0.10009156],\n",
       "        [0.10009621, 0.10009158]]),\n",
       " 'b1': array([[1.17351814e-05],\n",
       "        [1.17372784e-05]]),\n",
       " 'W2': array([[0.10069267],\n",
       "        [0.10069263]]),\n",
       " 'b2': array([[0.00083259]])}"
      ]
     },
     "execution_count": 55,
     "metadata": {},
     "output_type": "execute_result"
    }
   ],
   "source": [
    "print('Loss for this student - ',-y*np.log(y_hat) - (1-y)*np.log(1-y_hat))\n",
    "parameters"
   ]
  },
  {
   "cell_type": "code",
   "execution_count": 56,
   "id": "9b644b4c-d279-43ff-950a-564bfbb4072a",
   "metadata": {
    "tags": []
   },
   "outputs": [
    {
     "name": "stdout",
     "output_type": "stream",
     "text": [
      "A0:  [[5]\n",
      " [5]]\n",
      "W1:  [[0.1000962  0.10009156]\n",
      " [0.10009621 0.10009158]]\n",
      "b1:  [[1.17351814e-05]\n",
      " [1.17372784e-05]]\n",
      "----------------------------------------\n",
      "A1:  [[0.73125   ]\n",
      " [0.73124089]]\n",
      "****************************************\n",
      "A1:  [[0.73125   ]\n",
      " [0.73124089]]\n",
      "W2:  [[0.10069267]\n",
      " [0.10069263]]\n",
      "b2:  [[0.00083259]]\n",
      "----------------------------------------\n",
      "A2:  [[0.53695615]]\n",
      "****************************************\n"
     ]
    }
   ],
   "source": [
    "#Student-4\n",
    "X = df[['cgpa', 'profile_score']].values[3].reshape(2,1) # Shape(no of features, no. of training example)\n",
    "y = df[['placed']].values[3][0]\n",
    "\n",
    "y_hat,A1 = L_layer_forward(X, parameters)"
   ]
  },
  {
   "cell_type": "code",
   "execution_count": 57,
   "id": "61e7f3a9-26ea-4691-87c8-1185df5fdee1",
   "metadata": {
    "tags": []
   },
   "outputs": [],
   "source": [
    "y_hat=y_hat[0][0]"
   ]
  },
  {
   "cell_type": "code",
   "execution_count": 58,
   "id": "a13a915e-287f-49e8-a489-1636656ccb46",
   "metadata": {
    "tags": []
   },
   "outputs": [],
   "source": [
    "update_parameters(parameters,y,y_hat,A1,X)"
   ]
  },
  {
   "cell_type": "code",
   "execution_count": 59,
   "id": "2da3b9b4-278d-45fe-ac63-3ff97c464120",
   "metadata": {
    "tags": []
   },
   "outputs": [
    {
     "name": "stdout",
     "output_type": "stream",
     "text": [
      "Loss for this student -  0.7699335214453962\n"
     ]
    },
    {
     "data": {
      "text/plain": [
       "{'W1': array([[0.10004328, 0.10003864],\n",
       "        [0.10004329, 0.10003866]]),\n",
       " 'b1': array([[1.15107534e-06],\n",
       "        [1.15294843e-06]]),\n",
       " 'W2': array([[0.10030002],\n",
       "        [0.10029999]]),\n",
       " 'b2': array([[0.00029564]])}"
      ]
     },
     "execution_count": 59,
     "metadata": {},
     "output_type": "execute_result"
    }
   ],
   "source": [
    "print('Loss for this student - ',-y*np.log(y_hat) - (1-y)*np.log(1-y_hat))\n",
    "parameters"
   ]
  },
  {
   "cell_type": "code",
   "execution_count": 61,
   "id": "021e7252-26bd-4b57-8fc0-08c17b7e8e71",
   "metadata": {
    "tags": []
   },
   "outputs": [
    {
     "name": "stdout",
     "output_type": "stream",
     "text": [
      "Epoch -  1 Loss -  0.6941717414861723\n",
      "Epoch -  2 Loss -  0.6941618840080915\n",
      "Epoch -  3 Loss -  0.6941520705403675\n",
      "Epoch -  4 Loss -  0.6941423008716868\n",
      "Epoch -  5 Loss -  0.6941325747917801\n",
      "Epoch -  6 Loss -  0.6941228920914183\n",
      "Epoch -  7 Loss -  0.694113252562406\n",
      "Epoch -  8 Loss -  0.6941036559975762\n",
      "Epoch -  9 Loss -  0.6940941021907856\n",
      "Epoch -  10 Loss -  0.694084590936909\n",
      "Epoch -  11 Loss -  0.6940751220318339\n",
      "Epoch -  12 Loss -  0.6940656952724555\n",
      "Epoch -  13 Loss -  0.6940563104566712\n",
      "Epoch -  14 Loss -  0.694046967383376\n",
      "Epoch -  15 Loss -  0.6940376658524566\n",
      "Epoch -  16 Loss -  0.6940284056647871\n",
      "Epoch -  17 Loss -  0.694019186622223\n",
      "Epoch -  18 Loss -  0.6940100085275969\n",
      "Epoch -  19 Loss -  0.694000871184713\n",
      "Epoch -  20 Loss -  0.6939917743983431\n",
      "Epoch -  21 Loss -  0.6939827179742198\n",
      "Epoch -  22 Loss -  0.693973701719033\n",
      "Epoch -  23 Loss -  0.6939647254404246\n",
      "Epoch -  24 Loss -  0.6939557889469835\n",
      "Epoch -  25 Loss -  0.6939468920482408\n",
      "Epoch -  26 Loss -  0.693938034554665\n",
      "Epoch -  27 Loss -  0.6939292162776569\n",
      "Epoch -  28 Loss -  0.6939204370295454\n",
      "Epoch -  29 Loss -  0.6939116966235824\n",
      "Epoch -  30 Loss -  0.6939029948739378\n",
      "Epoch -  31 Loss -  0.6938943315956949\n",
      "Epoch -  32 Loss -  0.6938857066048463\n",
      "Epoch -  33 Loss -  0.6938771197182885\n",
      "Epoch -  34 Loss -  0.6938685707538178\n",
      "Epoch -  35 Loss -  0.693860059530125\n",
      "Epoch -  36 Loss -  0.6938515858667921\n",
      "Epoch -  37 Loss -  0.6938431495842858\n",
      "Epoch -  38 Loss -  0.6938347505039549\n",
      "Epoch -  39 Loss -  0.6938263884480249\n",
      "Epoch -  40 Loss -  0.6938180632395932\n",
      "Epoch -  41 Loss -  0.6938097747026254\n",
      "Epoch -  42 Loss -  0.6938015226619503\n",
      "Epoch -  43 Loss -  0.6937933069432554\n",
      "Epoch -  44 Loss -  0.6937851273730834\n",
      "Epoch -  45 Loss -  0.6937769837788271\n",
      "Epoch -  46 Loss -  0.6937688759887246\n",
      "Epoch -  47 Loss -  0.6937608038318563\n",
      "Epoch -  48 Loss -  0.6937527671381389\n",
      "Epoch -  49 Loss -  0.6937447657383236\n",
      "Epoch -  50 Loss -  0.6937367994639887\n"
     ]
    },
    {
     "data": {
      "text/plain": [
       "{'W1': array([[0.09995316, 0.0991031 ],\n",
       "        [0.09995955, 0.09910591]]),\n",
       " 'b1': array([[-0.00025234],\n",
       "        [-0.00025216]]),\n",
       " 'W2': array([[0.09624378],\n",
       "        [0.09624801]]),\n",
       " 'b2': array([[-0.00775436]])}"
      ]
     },
     "execution_count": 61,
     "metadata": {},
     "output_type": "execute_result"
    }
   ],
   "source": [
    "# Epochs implementation\n",
    "\n",
    "parameters = initialize_parameters([2,2,1])\n",
    "epochs = 50\n",
    "\n",
    "for i in range(epochs):\n",
    "\n",
    "    Loss = []\n",
    "\n",
    "    for j in range(df.shape[0]):\n",
    "\n",
    "        X = df[['cgpa', 'profile_score']].values[j].reshape(2,1) # Shape(no of features, no. of training example)\n",
    "        y = df[['placed']].values[j][0]\n",
    "\n",
    "        # Parameter initialization\n",
    "\n",
    "\n",
    "        y_hat,A1 = L_layer_forward(X,parameters)\n",
    "        y_hat = y_hat[0][0]\n",
    "\n",
    "        update_parameters(parameters,y,y_hat,A1,X)\n",
    "\n",
    "        Loss.append(-y*np.log(y_hat) - (1-y)*np.log(1-y_hat))\n",
    "\n",
    "    print('Epoch - ',i+1,'Loss - ',np.array(Loss).mean())\n",
    "\n",
    "parameters"
   ]
  },
  {
   "cell_type": "code",
   "execution_count": null,
   "id": "7ea25d46-a8e4-4259-a3e7-66800ff497c6",
   "metadata": {},
   "outputs": [],
   "source": []
  }
 ],
 "metadata": {
  "kernelspec": {
   "display_name": "Python 3 (ipykernel)",
   "language": "python",
   "name": "python3"
  },
  "language_info": {
   "codemirror_mode": {
    "name": "ipython",
    "version": 3
   },
   "file_extension": ".py",
   "mimetype": "text/x-python",
   "name": "python",
   "nbconvert_exporter": "python",
   "pygments_lexer": "ipython3",
   "version": "3.11.5"
  }
 },
 "nbformat": 4,
 "nbformat_minor": 5
}
